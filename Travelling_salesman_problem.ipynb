{
  "nbformat": 4,
  "nbformat_minor": 0,
  "metadata": {
    "colab": {
      "provenance": []
    },
    "kernelspec": {
      "name": "python3",
      "display_name": "Python 3"
    },
    "language_info": {
      "name": "python"
    }
  },
  "cells": [
    {
      "cell_type": "code",
      "source": [
        "from IPython.utils.path import random\n",
        "import math"
      ],
      "metadata": {
        "id": "IEIRRaPkNzLK"
      },
      "execution_count": 365,
      "outputs": []
    },
    {
      "cell_type": "code",
      "source": [
        "MUTATION_PROBALITY = 0.5\n",
        "MAX_POPULATION = 30\n",
        "MAX_ITERATIONS = 70"
      ],
      "metadata": {
        "id": "OpzglvRrkqI6"
      },
      "execution_count": 381,
      "outputs": []
    },
    {
      "cell_type": "code",
      "source": [
        "# Cities Data\n",
        "CITIES = {\"Codes\": [\"A\", \"B\", \"C\", \"D\", \"E\"], \"Distances\": [[0, 100, 37, 50, 98],[99, 0, 87, 75, 170], [30, 69, 0, 83, 74], [58, 11, 96, 0,288], [249, 90, 90, 232, 0]]}"
      ],
      "metadata": {
        "id": "hF6veTK3MfM0"
      },
      "execution_count": 377,
      "outputs": []
    },
    {
      "cell_type": "code",
      "execution_count": 368,
      "metadata": {
        "id": "yGL1DzsWKHyv"
      },
      "outputs": [],
      "source": [
        "class Gene:\n",
        "  Code = None\n",
        "  def __init__(self, code):\n",
        "    self.Code = code"
      ]
    },
    {
      "cell_type": "code",
      "source": [
        "class Chromosome: \n",
        "  Genes = []\n",
        "  Fitness = 0\n",
        "\n",
        "  def __init__(self, genes):\n",
        "      self.Genes = genes\n",
        "\n",
        "  def get_fitness(self):\n",
        "    _fitness = 0\n",
        "    for i in range(1, len(self.Genes)):\n",
        "      current_gene = self.Genes[i-1].Code\n",
        "      next_gene = self.Genes[i].Code\n",
        "      current_gene_index = CITIES[\"Codes\"].index(current_gene)\n",
        "      next_gene_index = CITIES[\"Codes\"].index(next_gene)\n",
        "      _fitness += CITIES[\"Distances\"][current_gene_index][next_gene_index]\n",
        "      self.Fitness = _fitness\n",
        "    return  self.Fitness\n",
        "\n",
        "\n",
        "  def mutate(self, mutation_probabilty):\n",
        "    number_of_genes = len(self.Genes)\n",
        "    number_of_changes = math.floor(number_of_genes*mutation_probabilty)\n",
        "    for _ in range(0, number_of_changes):\n",
        "      random_index_1 = random.randrange(0, len(self.Genes))\n",
        "      random_index_2 = random.randrange(0, len(self.Genes))\n",
        "      self.Genes[random_index_1], self.Genes[random_index_2]  = self.Genes[random_index_2] , self.Genes[random_index_1] \n",
        "      new_chromosome = Chromosome(self.Genes)\n",
        "    return new_chromosome\n",
        "  \n",
        "\n",
        "  def __str__(self):\n",
        "    return f\"Chromosome: {str(self.Genes)}\""
      ],
      "metadata": {
        "id": "Q1RFiRdoM5Fh"
      },
      "execution_count": 369,
      "outputs": []
    },
    {
      "cell_type": "code",
      "source": [
        "def print_chromosome(chromosome):\n",
        "  r = []\n",
        "  for g in chromosome.Genes:\n",
        "    r.append(g.Code)\n",
        "  print(\"  -->  \".join(r))"
      ],
      "metadata": {
        "id": "PjSmmCzNdd3D"
      },
      "execution_count": 370,
      "outputs": []
    },
    {
      "cell_type": "code",
      "source": [
        "def elitism(population):\n",
        "  population_data = []\n",
        "  for i in range(0, len(population)):\n",
        "    c_fitness = population[i].get_fitness()\n",
        "    population_data.append({\"Fitness\":c_fitness , \"Chromosome\": population[i]})\n",
        "  population_data = sorted(population_data, key=lambda k: k['Fitness'], reverse=True)\n",
        "  return population_data[0][\"Chromosome\"], population_data[1][\"Chromosome\"]"
      ],
      "metadata": {
        "id": "Bugxyc8Zro0N"
      },
      "execution_count": 371,
      "outputs": []
    },
    {
      "cell_type": "code",
      "source": [
        "def crossover(chromosomeA, chromosomeB):\n",
        "  ca_codes = []\n",
        "  cb_codes = []\n",
        "  adjacents = []\n",
        "  clean_adjacents = []\n",
        "  city_entries = []\n",
        "  crossover_genes= []\n",
        "  for i in range(0, len(chromosomeA.Genes)):\n",
        "    ca_codes.append(chromosomeA.Genes[i].Code)\n",
        "    cb_codes.append(chromosomeB.Genes[i].Code)\n",
        "  for i in range(0, len(chromosomeA.Genes)):\n",
        "    gene_code = ca_codes[i]\n",
        "    l1 = None\n",
        "    l2 = None\n",
        "    r1 = None\n",
        "    r2 = None\n",
        "    if ca_codes.index(ca_codes[i])-1 >= 0:\n",
        "      l1 = ca_codes[ca_codes.index(ca_codes[i])-1]\n",
        "    if cb_codes.index(ca_codes[i])-1 >= 0:\n",
        "      l2 = cb_codes[cb_codes.index(ca_codes[i])-1]\n",
        "    if ca_codes.index(ca_codes[i]) < len(chromosomeA.Genes)-1:\n",
        "      r1 = ca_codes[ca_codes.index(ca_codes[i])+1]\n",
        "    if cb_codes.index(ca_codes[i]) < len(chromosomeA.Genes)-1:\n",
        "      r2 = cb_codes[cb_codes.index(ca_codes[i])+1]\n",
        "    adjacents.append({gene_code: [l1, l2, r1, r2]})\n",
        "  for i in range(0, len(adjacents)):\n",
        "    for key, value in adjacents[i].items():\n",
        "      k = key\n",
        "      v = list(filter(lambda x : x != None, value))\n",
        "      v= set(v)\n",
        "      clean_adjacents.append({k: list(v)})\n",
        "  current_city = random.choice(CITIES[\"Codes\"])\n",
        "  random_parent = random.choice([chromosomeA, chromosomeA])\n",
        "  current_city = random_parent.Genes[0].Code\n",
        "  crossover_genes.append(current_city)\n",
        "  city_arr = [list(t.values())[0] for i, t in enumerate(clean_adjacents) ]\n",
        "  for node in CITIES[\"Codes\"]:\n",
        "      city_entries.append({node: sum(x.count(node) for x in city_arr)})\n",
        "  city_entries = sorted(city_entries, key=lambda k: list(k.values())[0])\n",
        "  for node in city_entries:\n",
        "    if list(node.keys())[0] not in crossover_genes:\n",
        "      crossover_genes.append(list(node.keys())[0])\n",
        "  child = []\n",
        "  \n",
        "  for gene_code in crossover_genes:\n",
        "    child.append(Gene(gene_code))\n",
        "  child_chromosome  = Chromosome(child)\n",
        "  return child_chromosome"
      ],
      "metadata": {
        "id": "JBD8r7J4vBrS"
      },
      "execution_count": 372,
      "outputs": []
    },
    {
      "cell_type": "code",
      "source": [
        "def initialize_population( population_size):\n",
        "  initial_population = []\n",
        "  for i in range(0, population_size):\n",
        "    arr = random.sample(CITIES[\"Codes\"], k = len(CITIES[\"Codes\"]))\n",
        "    child = []\n",
        "    for gene_code in arr:\n",
        "      child.append(Gene(gene_code))\n",
        "    c = Chromosome(child)\n",
        "    initial_population.append(c)\n",
        "  return initial_population"
      ],
      "metadata": {
        "id": "ELjSdsbFNrN0"
      },
      "execution_count": 373,
      "outputs": []
    },
    {
      "cell_type": "code",
      "source": [
        "%%time\n",
        "def generate_solution(population_size):\n",
        "  population = initialize_population(population_size)\n",
        "  c1, c2 = elitism(population)\n",
        "  best_fitness = 0\n",
        "  bestChromosome = population[0]\n",
        "  c1_fitness = c1.get_fitness()\n",
        "  c2_fitness = c2.get_fitness()\n",
        "    # Check Fitness\n",
        "  best_fitness = c1_fitness\n",
        "  if c2_fitness <= best_fitness:\n",
        "    best_fitness <= c2_fitness\n",
        "    \n",
        "  for i in range(1, MAX_ITERATIONS):\n",
        "    # CrossOver\n",
        "    ca = crossover(c1,c2)\n",
        "    # Mutate\n",
        "    c1 = ca.mutate(MUTATION_PROBALITY)\n",
        "    c1_fitness = c1.get_fitness()\n",
        "    if c1_fitness <= best_fitness:\n",
        "      best_fitness = c1_fitness\n",
        "      bestChromosome = c1\n",
        "    if i == MAX_ITERATIONS-1:\n",
        "      print(\"-------------------------------------------\\nShortest Distance : {}\\n-------------------------------------------\".format(best_fitness))\n",
        "      print_chromosome(c1)\n",
        "      print(\"-------------------------------------------\\n\") \n",
        "\n",
        "\n",
        "\n",
        "generate_solution(population_size = MAX_POPULATION)"
      ],
      "metadata": {
        "colab": {
          "base_uri": "https://localhost:8080/"
        },
        "id": "yBsBf8dMPkF2",
        "outputId": "b007c7ae-2795-4169-8afd-cf54e871e372"
      },
      "execution_count": 382,
      "outputs": [
        {
          "output_type": "stream",
          "name": "stdout",
          "text": [
            "-------------------------------------------\n",
            "Shortest Distance : 222\n",
            "-------------------------------------------\n",
            "C  -->  A  -->  B  -->  D  -->  E\n",
            "-------------------------------------------\n",
            "\n",
            "CPU times: user 12.3 ms, sys: 0 ns, total: 12.3 ms\n",
            "Wall time: 17 ms\n"
          ]
        }
      ]
    }
  ]
}